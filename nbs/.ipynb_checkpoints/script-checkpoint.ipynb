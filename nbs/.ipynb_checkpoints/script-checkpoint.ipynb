{
 "cells": [
  {
   "cell_type": "markdown",
   "metadata": {
    "_cell_guid": "63f97ada-21c8-4755-9fee-0a0cfbff8aa7",
    "_uuid": "9853586a0dc75ce39e7c7ffcde1eb4d47c6fb02e"
   },
   "source": [
    "# Overview ##\n",
    "\n",
    "This is a starter notebook inspired by last year's [Logistic Regression on Tournament Seeds by Kasper P. Lauritzen](https://www.kaggle.com/kplauritzen/notebookde27b18258?scriptVersionId=804590) starter kernel. It creates a basic logistic regression model based on the seed differences between teams. \n",
    "\n",
    "Note that the predictions for Stage 1's sample submissions file are already based on known outcomes, and the Tourney data this model is trained on includes that data. For Stage 2, you will be predicting future outcomes based on the teams selected for the tournament on March 11."
   ]
  },
  {
   "cell_type": "code",
   "execution_count": 1,
   "metadata": {
    "_cell_guid": "0c233e05-c63d-4866-96dc-bb38d444bf84",
    "_uuid": "5464dc4b196dc4c8dd0323bbd71b75724113e2af"
   },
   "outputs": [
    {
     "name": "stdout",
     "output_type": "stream",
     "text": [
      "DataFiles\n",
      "MasseyOrdinals\n",
      "PlayByPlay_2017\n",
      "SampleSubmissionStage1.csv\n",
      "ZippedData\n",
      "\n"
     ]
    }
   ],
   "source": [
    "# This Python 3 environment comes with many helpful analytics libraries installed\n",
    "# It is defined by the kaggle/python docker image: https://github.com/kaggle/docker-python\n",
    "# For example, here's several helpful packages to load in \n",
    "import numpy as np # linear algebra\n",
    "import pandas as pd # data processing, CSV file I/O (e.g. pd.read_csv)\n",
    "from sklearn.linear_model import LogisticRegression\n",
    "import matplotlib.pyplot as plt\n",
    "from sklearn.utils import shuffle\n",
    "from sklearn.model_selection import GridSearchCV\n",
    "\n",
    "# Input data files are available in the \"../input/\" directory.\n",
    "# For example, running this (by clicking run or pressing Shift+Enter) will list the files in the input directory\n",
    "\n",
    "from subprocess import check_output\n",
    "print(check_output([\"ls\", \"../input\"]).decode(\"utf8\"))\n",
    "\n",
    "# Any results you write to the current directory are saved as output.\n"
   ]
  },
  {
   "cell_type": "markdown",
   "metadata": {
    "_cell_guid": "9eecd909-c6e5-4a88-8481-bcbca7aef1df",
    "_uuid": "819472385a23f3fd5aaf4172b4f8db227cf5271f"
   },
   "source": [
    "## Load the training data ##\n",
    "We're keeping it simple & using only 2 files for this model: the Tourney seeds & Compact results."
   ]
  },
  {
   "cell_type": "code",
   "execution_count": null,
   "metadata": {
    "_cell_guid": "087d26ad-591c-4ff4-bd13-be6aaf436832",
    "_uuid": "bf8ee168a0372e883332d6bb0ce5c89c13143650",
    "collapsed": true
   },
   "outputs": [],
   "source": [
    "data_dir = '../input/'\n",
    "df_seeds = pd.read_csv(data_dir + 'DataFiles' + '/' + 'NCAATourneySeeds.csv')\n",
    "df_tour = pd.read_csv(data_dir + 'DataFiles' + '/' + 'NCAATourneyCompactResults.csv')"
   ]
  },
  {
   "cell_type": "code",
   "execution_count": null,
   "metadata": {
    "_cell_guid": "e5412069-c89b-4fed-9d2d-4690d6fd71b4",
    "_uuid": "9f32e5f9104b7f10d3de7b38d3f292aef045c30f",
    "collapsed": true
   },
   "outputs": [],
   "source": [
    "df_seeds.head()"
   ]
  },
  {
   "cell_type": "code",
   "execution_count": null,
   "metadata": {
    "_cell_guid": "3eaeb447-2e68-4790-9bcd-423ccdb7a117",
    "_uuid": "dcb3b4cc84f09ea5af4d52da4fd970928e14bfc1",
    "collapsed": true
   },
   "outputs": [],
   "source": [
    "df_tour.head()"
   ]
  },
  {
   "cell_type": "markdown",
   "metadata": {
    "_cell_guid": "ac5dd6af-b871-47c6-b7b0-ef6d85954971",
    "_uuid": "42f99f53dd385e23b09378e0de9d3fce5eb1a2e9"
   },
   "source": [
    "First, we'll simplify the datasets to remove the columns we won't be using and convert the seedings to the needed format (stripping the regional abbreviation in front of the seed)."
   ]
  },
  {
   "cell_type": "code",
   "execution_count": null,
   "metadata": {
    "_cell_guid": "4e397ac8-7ac8-4ba7-b92f-571a0e75da18",
    "_uuid": "fcb18269a41cfa257bd97c40664e43e701251bed",
    "collapsed": true
   },
   "outputs": [],
   "source": [
    "def seed_to_int(seed):\n",
    "    #Get just the digits from the seeding. Return as int\n",
    "    s_int = int(seed[1:3])\n",
    "    return s_int\n",
    "df_seeds['seed_int'] = df_seeds.Seed.apply(seed_to_int)\n",
    "df_seeds.drop(labels=['Seed'], inplace=True, axis=1) # This is the string label\n",
    "df_seeds.head()"
   ]
  },
  {
   "cell_type": "code",
   "execution_count": null,
   "metadata": {
    "_cell_guid": "90db3f9f-7d11-4bac-8d37-3331e4416c6a",
    "_uuid": "1f6ecb82fa587f5a95a6833cd224b01407f5c90a",
    "collapsed": true
   },
   "outputs": [],
   "source": [
    "df_tour.drop(labels=['DayNum', 'WScore', 'LScore', 'WLoc', 'NumOT'], inplace=True, axis=1)\n",
    "df_tour.head()"
   ]
  },
  {
   "cell_type": "markdown",
   "metadata": {
    "_cell_guid": "88e7ab21-0380-42b2-9979-e30fef6e856a",
    "_uuid": "3f223cdf4446d6e9c77ab8319237f05393d1a822"
   },
   "source": [
    "## Merge seed for each team ##\n",
    "Merge the Seeds with their corresponding TeamIDs in the compact results dataframe."
   ]
  },
  {
   "cell_type": "code",
   "execution_count": null,
   "metadata": {
    "_cell_guid": "a22a595b-a6cb-4291-81ae-903a9548cd37",
    "_uuid": "53638c1ae27cfb24d47e02007c293d5ee19ebdac",
    "collapsed": true
   },
   "outputs": [],
   "source": [
    "df_winseeds = df_seeds.rename(columns={'TeamID':'WTeamID', 'seed_int':'WSeed'})\n",
    "df_lossseeds = df_seeds.rename(columns={'TeamID':'LTeamID', 'seed_int':'LSeed'})\n",
    "df_dummy = pd.merge(left=df_tour, right=df_winseeds, how='left', on=['Season', 'WTeamID'])\n",
    "df_concat = pd.merge(left=df_dummy, right=df_lossseeds, on=['Season', 'LTeamID'])\n",
    "df_concat['SeedDiff'] = df_concat.WSeed - df_concat.LSeed\n",
    "df_concat.head()"
   ]
  },
  {
   "cell_type": "markdown",
   "metadata": {
    "_cell_guid": "72274b95-581c-4938-88a4-b3e8cb1787d4",
    "_uuid": "1c82f60c02545c8c46ab090cb8cefca48e48e434"
   },
   "source": [
    "Now we'll create a dataframe that summarizes wins & losses along with their corresponding seed differences. This is the meat of what we'll be creating our model on."
   ]
  },
  {
   "cell_type": "code",
   "execution_count": null,
   "metadata": {
    "_cell_guid": "4279fa78-4700-43d6-a92e-3a372715e0f3",
    "_uuid": "1a40000e85c0dd9d2be6850a767acd736bf5f182",
    "collapsed": true
   },
   "outputs": [],
   "source": [
    "df_wins = pd.DataFrame()\n",
    "df_wins['SeedDiff'] = df_concat['SeedDiff']\n",
    "df_wins['Result'] = 1\n",
    "\n",
    "df_losses = pd.DataFrame()\n",
    "df_losses['SeedDiff'] = -df_concat['SeedDiff']\n",
    "df_losses['Result'] = 0\n",
    "\n",
    "df_predictions = pd.concat((df_wins, df_losses))\n",
    "df_predictions.head()"
   ]
  },
  {
   "cell_type": "code",
   "execution_count": null,
   "metadata": {
    "_cell_guid": "e6eca4b5-2b22-4abf-9145-7a8d284faab7",
    "_uuid": "3cf1b39303c44e73a3fa0f813a9580e91eca6b0b",
    "collapsed": true
   },
   "outputs": [],
   "source": [
    "X_train = df_predictions.SeedDiff.values.reshape(-1,1)\n",
    "y_train = df_predictions.Result.values\n",
    "X_train, y_train = shuffle(X_train, y_train)"
   ]
  },
  {
   "cell_type": "markdown",
   "metadata": {
    "_cell_guid": "4b0751b0-a04a-4586-b612-6feb201cde7d",
    "_uuid": "563937f42bcccd2bbfb8fc1a66a72a9ca1351f43"
   },
   "source": [
    "## Train the model ##\n",
    "Use a basic logistic regression to train the model. You can set different C values to see how performance changes."
   ]
  },
  {
   "cell_type": "code",
   "execution_count": null,
   "metadata": {
    "_cell_guid": "34a69207-0b92-4b28-8ad7-5d2cabec878a",
    "_uuid": "95f817451eae9b72dc237e734e19c929be136d50",
    "collapsed": true
   },
   "outputs": [],
   "source": [
    "logreg = LogisticRegression()\n",
    "params = {'C': np.logspace(start=-5, stop=3, num=9)}\n",
    "clf = GridSearchCV(logreg, params, scoring='neg_log_loss', refit=True)\n",
    "clf.fit(X_train, y_train)\n",
    "print('Best log_loss: {:.4}, with best C: {}'.format(clf.best_score_, clf.best_params_['C']))"
   ]
  },
  {
   "cell_type": "code",
   "execution_count": null,
   "metadata": {
    "_cell_guid": "2bf46a87-8bbe-4964-935a-89e307f700b9",
    "_uuid": "37e01a2b50f69e1f6a0aeaa50c7593d8cae15b1b",
    "collapsed": true
   },
   "outputs": [],
   "source": [
    "X = np.arange(-10, 10).reshape(-1, 1)\n",
    "preds = clf.predict_proba(X)[:,1]\n",
    "\n",
    "plt.plot(X, preds)\n",
    "plt.xlabel('Team1 seed - Team2 seed')\n",
    "plt.ylabel('P(Team1 will win)')"
   ]
  },
  {
   "cell_type": "markdown",
   "metadata": {
    "_cell_guid": "2e9a55cf-b938-426f-b92c-e92ded0a663f",
    "_uuid": "3e8270e8638b6f78317b7f787cc0259af682dba7"
   },
   "source": [
    "Plotting validates our intuition, that the probability a team will win decreases as the seed differential to its opponent decreases."
   ]
  },
  {
   "cell_type": "code",
   "execution_count": null,
   "metadata": {
    "_cell_guid": "16e4b2a7-91a4-420f-9eee-abaa49ea028b",
    "_uuid": "cd5a427eca09adda4e9a42a88208b683020a1f8d",
    "collapsed": true
   },
   "outputs": [],
   "source": [
    "df_sample_sub = pd.read_csv(data_dir + 'SampleSubmissionStage1.csv')\n",
    "n_test_games = len(df_sample_sub)\n",
    "\n",
    "def get_year_t1_t2(ID):\n",
    "    \"\"\"Return a tuple with ints `year`, `team1` and `team2`.\"\"\"\n",
    "    return (int(x) for x in ID.split('_'))"
   ]
  },
  {
   "cell_type": "code",
   "execution_count": null,
   "metadata": {
    "_cell_guid": "3d842b3e-783b-4ab5-94c5-97cedc9d08c4",
    "_uuid": "72d64ebc20c903660108ae9c529be07859396909",
    "collapsed": true
   },
   "outputs": [],
   "source": [
    "X_test = np.zeros(shape=(n_test_games, 1))\n",
    "for ii, row in df_sample_sub.iterrows():\n",
    "    year, t1, t2 = get_year_t1_t2(row.ID)\n",
    "    t1_seed = df_seeds[(df_seeds.TeamID == t1) & (df_seeds.Season == year)].seed_int.values[0]\n",
    "    t2_seed = df_seeds[(df_seeds.TeamID == t2) & (df_seeds.Season == year)].seed_int.values[0]\n",
    "    diff_seed = t1_seed - t2_seed\n",
    "    X_test[ii, 0] = diff_seed"
   ]
  },
  {
   "cell_type": "markdown",
   "metadata": {
    "_cell_guid": "8bacc197-297f-465d-a49c-9b988619c166",
    "_uuid": "375748512c55520e00ffd5701c82704856478370"
   },
   "source": [
    "## Make Predictions ##\n",
    "Create predictions using the logistic regression model we trained."
   ]
  },
  {
   "cell_type": "code",
   "execution_count": null,
   "metadata": {
    "_cell_guid": "b3da5070-e0e3-445a-9af1-ced10032bcc7",
    "_uuid": "65dc063a2e9c5e447d800556f7cf67b26b7cbedb",
    "collapsed": true
   },
   "outputs": [],
   "source": [
    "preds = clf.predict_proba(X_test)[:,1]\n",
    "\n",
    "clipped_preds = np.clip(preds, 0.05, 0.95)\n",
    "df_sample_sub.Pred = clipped_preds\n",
    "df_sample_sub.head()"
   ]
  },
  {
   "cell_type": "markdown",
   "metadata": {
    "_cell_guid": "72494058-d8c5-4ab4-99cd-4b50d7d7135c",
    "_uuid": "3f4ef6ab893953a811462d240778205c2fdecf97"
   },
   "source": [
    "Lastly, create your submission file!"
   ]
  },
  {
   "cell_type": "code",
   "execution_count": null,
   "metadata": {
    "_cell_guid": "78ded09c-4ee1-49a2-901b-0cbe2ac3f114",
    "_uuid": "7c784a9b62d889e83493b70efa17bd233f9abff4",
    "collapsed": true
   },
   "outputs": [],
   "source": [
    "df_sample_sub.to_csv('logreg_seed_starter.csv', index=False)"
   ]
  }
 ],
 "metadata": {
  "kernelspec": {
   "display_name": "Python 3",
   "language": "python",
   "name": "python3"
  },
  "language_info": {
   "codemirror_mode": {
    "name": "ipython",
    "version": 3
   },
   "file_extension": ".py",
   "mimetype": "text/x-python",
   "name": "python",
   "nbconvert_exporter": "python",
   "pygments_lexer": "ipython3",
   "version": "3.6.4"
  }
 },
 "nbformat": 4,
 "nbformat_minor": 1
}
